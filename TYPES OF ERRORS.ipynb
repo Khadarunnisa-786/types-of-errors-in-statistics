{
 "cells": [
  {
   "cell_type": "markdown",
   "id": "f72a129f-76b5-4d80-9868-2229337b0e7b",
   "metadata": {},
   "source": [
    "### p-value"
   ]
  },
  {
   "cell_type": "markdown",
   "id": "cf704c41-0ca5-4f94-83c6-99e863f02738",
   "metadata": {},
   "source": [
    "* It is also known as probability value.\n",
    "* p value is a probability in between 0 & 1 with assumption that the null hypothesis is true.\n",
    "* p value at which null hypothesis is rejected.\n",
    "* usually p value of 0.05 is uesd.\n",
    "* ex: tossing a coin."
   ]
  },
  {
   "cell_type": "markdown",
   "id": "151e89ce-5565-4849-8a3f-66cb746d655a",
   "metadata": {},
   "source": [
    "### TYPE 1 ERROR"
   ]
  },
  {
   "cell_type": "markdown",
   "id": "2a26a119-17d7-44de-a7d5-14d3e534775c",
   "metadata": {},
   "source": [
    "* It is also known as false positive.\n",
    "* Rejecting a true null hypothesis.\n",
    "* when it occur means you believe that there is an effect or difference when there isn't.\n",
    "  "
   ]
  },
  {
   "cell_type": "markdown",
   "id": "b797af96-7a75-493d-aa73-17ffd6f671da",
   "metadata": {},
   "source": [
    "### TYPE 2 ERROR"
   ]
  },
  {
   "cell_type": "markdown",
   "id": "74fc4d02-071d-4776-b5a3-e1b97872410c",
   "metadata": {},
   "source": [
    "* It is also known as false negative.\n",
    "* failing to reject a false null hypothesis.\n",
    "* when it occur means you believe there is no effect or difference when there is."
   ]
  },
  {
   "cell_type": "code",
   "execution_count": null,
   "id": "e9934ad1-621a-4ecc-92f6-3f527f1d767f",
   "metadata": {},
   "outputs": [],
   "source": []
  }
 ],
 "metadata": {
  "kernelspec": {
   "display_name": "Python 3 (ipykernel)",
   "language": "python",
   "name": "python3"
  },
  "language_info": {
   "codemirror_mode": {
    "name": "ipython",
    "version": 3
   },
   "file_extension": ".py",
   "mimetype": "text/x-python",
   "name": "python",
   "nbconvert_exporter": "python",
   "pygments_lexer": "ipython3",
   "version": "3.10.18"
  }
 },
 "nbformat": 4,
 "nbformat_minor": 5
}
