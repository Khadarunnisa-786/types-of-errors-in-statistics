{
 "cells": [
  {
   "cell_type": "code",
   "execution_count": null,
   "id": "c33c89b6-6013-4d03-881f-96b06b7eedd4",
   "metadata": {},
   "outputs": [],
   "source": []
  }
 ],
 "metadata": {
  "kernelspec": {
   "display_name": "",
   "name": ""
  },
  "language_info": {
   "name": ""
  }
 },
 "nbformat": 4,
 "nbformat_minor": 5
}
